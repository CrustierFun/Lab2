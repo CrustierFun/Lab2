{
 "cells": [
  {
   "cell_type": "markdown",
   "id": "31f2091d",
   "metadata": {},
   "source": [
    "# Лабораторная работа №5\n",
    "\n",
    "## Рекурсия. Фракталы.\n",
    "\n",
    "## Выполнил студент группы БСТ2001 Любимов Игнат Сергеевич\n",
    "## Вариант №16. Салфетка Серпинского.\n",
    "### Задание:\n",
    "1. Реализовать генерацию заданного типа фрактала с применением рекурсивных функций.\n",
    "2. Добавить возможность задания глубины фрактала.\n",
    "3. Оценить глубину рекурсии.\n",
    "4. Построить таблицу зависимости времени построения от глубины фрактала."
   ]
  },
  {
   "cell_type": "markdown",
   "id": "4f2a6ac2",
   "metadata": {},
   "source": [
    "### Реализация"
   ]
  },
  {
   "cell_type": "code",
   "execution_count": 9,
   "id": "aee9a778",
   "metadata": {},
   "outputs": [
    {
     "name": "stdout",
     "output_type": "stream",
     "text": [
      "Салфетка Серпинского\n",
      "\n",
      "Введите значение глубины фрактала: 4\n",
      "\n",
      "Отрисовка фрактала полностью завершена\n",
      "\n",
      "Время выполнения составило: 11.754862546920776 секунд\n",
      "\n",
      "Обработка окончена\n"
     ]
    }
   ],
   "source": [
    "# Реализация треугольника Серпинского\n",
    "import turtle as t\n",
    "import time\n",
    "\n",
    "\n",
    "#  Функция рисует треугольник по координатам трёх точек\n",
    "def draw_triangle(san):\n",
    "    t.penup()\n",
    "    t.goto(san[0])\n",
    "    t.pendown()\n",
    "    t.goto(san[1])\n",
    "    t.goto(san[2])\n",
    "    t.goto(san[0])\n",
    "\n",
    "\n",
    "# Функция производит расчёт координат средней точки, возвращая 2 точки\n",
    "def get_mid(a, b):\n",
    "    x = (a[0] + b[0]) / 2\n",
    "    y = (a[1] + b[1]) / 2\n",
    "    return [x, y]\n",
    "\n",
    "\n",
    "# Функция треугольника Серпинского\n",
    "def draw_san(size, i):\n",
    "\n",
    "    # Нарисовать треугольник\n",
    "    draw_triangle(size)\n",
    "    if i > 0:\n",
    "        # маленький треугольник слева\n",
    "        size2 = [size[0], get_mid(size[0], size[1]), get_mid(size[0], size[2])]\n",
    "        draw_san(size2, i - 1)\n",
    "\n",
    "        # верхний треугольник\n",
    "        size3 = [get_mid(size[0], size[2]), get_mid(size[1], size[2]), size[2]]\n",
    "        draw_san(size3, i - 1)\n",
    "\n",
    "        # маленький треугольник справа\n",
    "        size4 = [get_mid(size[0], size[1]), size[1], get_mid(size[1], size[2])]\n",
    "        draw_san(size4, i - 1)\n",
    "\n",
    "\n",
    "# Основная функция\n",
    "def main():\n",
    "    print(\"Салфетка Серпинского\")\n",
    "\n",
    "    # Количество вызовов рекурсии. Задание глубины фрактала.\n",
    "    deep: int = 0\n",
    "    try:\n",
    "        deep = int(input(\"\\nВведите значение глубины фрактала: \"))\n",
    "\n",
    "    except ValueError:\n",
    "        print(\"\\nОтвет некорректен. Нужно вводить число\")\n",
    "\n",
    "    start_time = time.time()\n",
    "    t.speed(1000)\n",
    "\n",
    "    # Начальные координаты треугольника\n",
    "    points = [[-200, 0], [200, 0], [0, 300]]\n",
    "\n",
    "    # Вызов функции треугольника Серпинского\n",
    "    draw_san(points, deep)\n",
    "    print(\"\\nОтрисовка фрактала полностью завершена\")\n",
    "    print(f\"\\nВремя выполнения составило: {time.time() - start_time} секунд\")\n",
    "\n",
    "    t.exitonclick()\n",
    "    print(\"\\nОбработка окончена\")\n",
    "\n",
    "\n",
    "main()"
   ]
  },
  {
   "cell_type": "markdown",
   "id": "50ae9d8c",
   "metadata": {},
   "source": [
    "### Таким образом, в этой лабораторной работе мы научились отрисовывать фрактал по определенной глубине и выводить время построения данного фрактала"
   ]
  },
  {
   "cell_type": "code",
   "execution_count": null,
   "id": "d796c289",
   "metadata": {},
   "outputs": [],
   "source": []
  }
 ],
 "metadata": {
  "kernelspec": {
   "display_name": "Python 3",
   "language": "python",
   "name": "python3"
  },
  "language_info": {
   "codemirror_mode": {
    "name": "ipython",
    "version": 3
   },
   "file_extension": ".py",
   "mimetype": "text/x-python",
   "name": "python",
   "nbconvert_exporter": "python",
   "pygments_lexer": "ipython3",
   "version": "3.8.8"
  }
 },
 "nbformat": 4,
 "nbformat_minor": 5
}
